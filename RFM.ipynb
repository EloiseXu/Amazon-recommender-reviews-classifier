{
 "cells": [
  {
   "cell_type": "code",
   "execution_count": 26,
   "metadata": {},
   "outputs": [],
   "source": [
    "import pandas as pd\n",
    "import numpy as np\n",
    "\n",
    "import datetime\n",
    "\n",
    "from scipy import stats\n",
    "from sklearn.cluster import KMeans"
   ]
  },
  {
   "cell_type": "code",
   "execution_count": 2,
   "metadata": {},
   "outputs": [
    {
     "data": {
      "text/html": [
       "<div>\n",
       "<style scoped>\n",
       "    .dataframe tbody tr th:only-of-type {\n",
       "        vertical-align: middle;\n",
       "    }\n",
       "\n",
       "    .dataframe tbody tr th {\n",
       "        vertical-align: top;\n",
       "    }\n",
       "\n",
       "    .dataframe thead th {\n",
       "        text-align: right;\n",
       "    }\n",
       "</style>\n",
       "<table border=\"1\" class=\"dataframe\">\n",
       "  <thead>\n",
       "    <tr style=\"text-align: right;\">\n",
       "      <th></th>\n",
       "      <th>user</th>\n",
       "      <th>timestamp</th>\n",
       "      <th>total</th>\n",
       "    </tr>\n",
       "  </thead>\n",
       "  <tbody>\n",
       "    <tr>\n",
       "      <th>34441</th>\n",
       "      <td>A2ME4L6KCEYALS</td>\n",
       "      <td>1347062400</td>\n",
       "      <td>420</td>\n",
       "    </tr>\n",
       "    <tr>\n",
       "      <th>135</th>\n",
       "      <td>A288G8UECOXFWK</td>\n",
       "      <td>1340236800</td>\n",
       "      <td>1142</td>\n",
       "    </tr>\n",
       "    <tr>\n",
       "      <th>339852</th>\n",
       "      <td>A3RNIDPPE77HGN</td>\n",
       "      <td>1369612800</td>\n",
       "      <td>181</td>\n",
       "    </tr>\n",
       "    <tr>\n",
       "      <th>5725</th>\n",
       "      <td>A2YBO8HKU4737O</td>\n",
       "      <td>1371427200</td>\n",
       "      <td>866</td>\n",
       "    </tr>\n",
       "    <tr>\n",
       "      <th>420613</th>\n",
       "      <td>AN456JW4ELMBE</td>\n",
       "      <td>1338595200</td>\n",
       "      <td>563</td>\n",
       "    </tr>\n",
       "    <tr>\n",
       "      <th>275769</th>\n",
       "      <td>A1UFMYBQXQB1G4</td>\n",
       "      <td>1315612800</td>\n",
       "      <td>37</td>\n",
       "    </tr>\n",
       "    <tr>\n",
       "      <th>316352</th>\n",
       "      <td>A24K3W507H3KQQ</td>\n",
       "      <td>1385510400</td>\n",
       "      <td>523</td>\n",
       "    </tr>\n",
       "    <tr>\n",
       "      <th>356731</th>\n",
       "      <td>A1A6MTAQB94U5C</td>\n",
       "      <td>1342051200</td>\n",
       "      <td>65</td>\n",
       "    </tr>\n",
       "    <tr>\n",
       "      <th>263493</th>\n",
       "      <td>A3NQT3W71JVM2B</td>\n",
       "      <td>1252713600</td>\n",
       "      <td>5</td>\n",
       "    </tr>\n",
       "    <tr>\n",
       "      <th>169000</th>\n",
       "      <td>A37EA8FLA56D33</td>\n",
       "      <td>1212969600</td>\n",
       "      <td>41</td>\n",
       "    </tr>\n",
       "  </tbody>\n",
       "</table>\n",
       "</div>"
      ],
      "text/plain": [
       "                  user   timestamp  total\n",
       "34441   A2ME4L6KCEYALS  1347062400    420\n",
       "135     A288G8UECOXFWK  1340236800   1142\n",
       "339852  A3RNIDPPE77HGN  1369612800    181\n",
       "5725    A2YBO8HKU4737O  1371427200    866\n",
       "420613   AN456JW4ELMBE  1338595200    563\n",
       "275769  A1UFMYBQXQB1G4  1315612800     37\n",
       "316352  A24K3W507H3KQQ  1385510400    523\n",
       "356731  A1A6MTAQB94U5C  1342051200     65\n",
       "263493  A3NQT3W71JVM2B  1252713600      5\n",
       "169000  A37EA8FLA56D33  1212969600     41"
      ]
     },
     "execution_count": 2,
     "metadata": {},
     "output_type": "execute_result"
    }
   ],
   "source": [
    "df = pd.read_csv('sample.csv')\n",
    "df.drop(columns=['Unnamed: 0', 'item', 'rating'], inplace=True)\n",
    "df.sample(10)"
   ]
  },
  {
   "cell_type": "code",
   "execution_count": 3,
   "metadata": {},
   "outputs": [],
   "source": [
    "recency = df.groupby('user')['timestamp'].max()"
   ]
  },
  {
   "cell_type": "code",
   "execution_count": 4,
   "metadata": {},
   "outputs": [],
   "source": [
    "frequency = df.groupby('user')['timestamp'].count()"
   ]
  },
  {
   "cell_type": "code",
   "execution_count": 5,
   "metadata": {},
   "outputs": [],
   "source": [
    "monetary = df.groupby('user')['total'].sum()"
   ]
  },
  {
   "cell_type": "code",
   "execution_count": 6,
   "metadata": {},
   "outputs": [],
   "source": [
    "rfm = pd.DataFrame({'recency':recency,'frequency':frequency, 'monetary':monetary})"
   ]
  },
  {
   "cell_type": "code",
   "execution_count": 7,
   "metadata": {},
   "outputs": [
    {
     "data": {
      "text/html": [
       "<div>\n",
       "<style scoped>\n",
       "    .dataframe tbody tr th:only-of-type {\n",
       "        vertical-align: middle;\n",
       "    }\n",
       "\n",
       "    .dataframe tbody tr th {\n",
       "        vertical-align: top;\n",
       "    }\n",
       "\n",
       "    .dataframe thead th {\n",
       "        text-align: right;\n",
       "    }\n",
       "</style>\n",
       "<table border=\"1\" class=\"dataframe\">\n",
       "  <thead>\n",
       "    <tr style=\"text-align: right;\">\n",
       "      <th></th>\n",
       "      <th>recency</th>\n",
       "      <th>frequency</th>\n",
       "      <th>monetary</th>\n",
       "    </tr>\n",
       "    <tr>\n",
       "      <th>user</th>\n",
       "      <th></th>\n",
       "      <th></th>\n",
       "      <th></th>\n",
       "    </tr>\n",
       "  </thead>\n",
       "  <tbody>\n",
       "    <tr>\n",
       "      <th>A3NS8SQFEL81AB</th>\n",
       "      <td>1343260800</td>\n",
       "      <td>1</td>\n",
       "      <td>367</td>\n",
       "    </tr>\n",
       "    <tr>\n",
       "      <th>AW4L00XFKWXZ8</th>\n",
       "      <td>1404000000</td>\n",
       "      <td>1</td>\n",
       "      <td>36</td>\n",
       "    </tr>\n",
       "    <tr>\n",
       "      <th>A19ZBT5OALJ8UK</th>\n",
       "      <td>1397952000</td>\n",
       "      <td>1</td>\n",
       "      <td>772</td>\n",
       "    </tr>\n",
       "    <tr>\n",
       "      <th>AJNLXR2MIQ5MY</th>\n",
       "      <td>1389139200</td>\n",
       "      <td>1</td>\n",
       "      <td>808</td>\n",
       "    </tr>\n",
       "    <tr>\n",
       "      <th>A1HSRD8FY1R72U</th>\n",
       "      <td>1358035200</td>\n",
       "      <td>1</td>\n",
       "      <td>180</td>\n",
       "    </tr>\n",
       "    <tr>\n",
       "      <th>A12YD532NT4KXV</th>\n",
       "      <td>1379116800</td>\n",
       "      <td>4</td>\n",
       "      <td>273</td>\n",
       "    </tr>\n",
       "    <tr>\n",
       "      <th>A2LYGZBC6H5TIE</th>\n",
       "      <td>1371600000</td>\n",
       "      <td>1</td>\n",
       "      <td>721</td>\n",
       "    </tr>\n",
       "    <tr>\n",
       "      <th>AVN3WZ6PE8TY2</th>\n",
       "      <td>1229299200</td>\n",
       "      <td>1</td>\n",
       "      <td>1221</td>\n",
       "    </tr>\n",
       "    <tr>\n",
       "      <th>A17KMA52IKHNYD</th>\n",
       "      <td>1376006400</td>\n",
       "      <td>1</td>\n",
       "      <td>37</td>\n",
       "    </tr>\n",
       "    <tr>\n",
       "      <th>A27AO8X42K4FH3</th>\n",
       "      <td>1363478400</td>\n",
       "      <td>1</td>\n",
       "      <td>274</td>\n",
       "    </tr>\n",
       "  </tbody>\n",
       "</table>\n",
       "</div>"
      ],
      "text/plain": [
       "                   recency  frequency  monetary\n",
       "user                                           \n",
       "A3NS8SQFEL81AB  1343260800          1       367\n",
       "AW4L00XFKWXZ8   1404000000          1        36\n",
       "A19ZBT5OALJ8UK  1397952000          1       772\n",
       "AJNLXR2MIQ5MY   1389139200          1       808\n",
       "A1HSRD8FY1R72U  1358035200          1       180\n",
       "A12YD532NT4KXV  1379116800          4       273\n",
       "A2LYGZBC6H5TIE  1371600000          1       721\n",
       "AVN3WZ6PE8TY2   1229299200          1      1221\n",
       "A17KMA52IKHNYD  1376006400          1        37\n",
       "A27AO8X42K4FH3  1363478400          1       274"
      ]
     },
     "execution_count": 7,
     "metadata": {},
     "output_type": "execute_result"
    }
   ],
   "source": [
    "rfm.sample(10)"
   ]
  },
  {
   "cell_type": "code",
   "execution_count": 8,
   "metadata": {},
   "outputs": [
    {
     "data": {
      "text/plain": [
       "(339231, 3)"
      ]
     },
     "execution_count": 8,
     "metadata": {},
     "output_type": "execute_result"
    }
   ],
   "source": [
    "rfm.shape"
   ]
  },
  {
   "cell_type": "code",
   "execution_count": 9,
   "metadata": {},
   "outputs": [
    {
     "data": {
      "text/html": [
       "<div>\n",
       "<style scoped>\n",
       "    .dataframe tbody tr th:only-of-type {\n",
       "        vertical-align: middle;\n",
       "    }\n",
       "\n",
       "    .dataframe tbody tr th {\n",
       "        vertical-align: top;\n",
       "    }\n",
       "\n",
       "    .dataframe thead th {\n",
       "        text-align: right;\n",
       "    }\n",
       "</style>\n",
       "<table border=\"1\" class=\"dataframe\">\n",
       "  <thead>\n",
       "    <tr style=\"text-align: right;\">\n",
       "      <th></th>\n",
       "      <th>recency</th>\n",
       "      <th>frequency</th>\n",
       "      <th>monetary</th>\n",
       "    </tr>\n",
       "    <tr>\n",
       "      <th>user</th>\n",
       "      <th></th>\n",
       "      <th></th>\n",
       "      <th></th>\n",
       "    </tr>\n",
       "  </thead>\n",
       "  <tbody>\n",
       "    <tr>\n",
       "      <th>A3478LO90CLJEN</th>\n",
       "      <td>2013-12-29</td>\n",
       "      <td>1</td>\n",
       "      <td>120</td>\n",
       "    </tr>\n",
       "    <tr>\n",
       "      <th>A1FLC9H8NH66YM</th>\n",
       "      <td>2013-10-04</td>\n",
       "      <td>7</td>\n",
       "      <td>5501</td>\n",
       "    </tr>\n",
       "    <tr>\n",
       "      <th>A1VVBZN99Q6V8D</th>\n",
       "      <td>2014-07-21</td>\n",
       "      <td>2</td>\n",
       "      <td>72</td>\n",
       "    </tr>\n",
       "    <tr>\n",
       "      <th>A17I2QRWJJ8VY9</th>\n",
       "      <td>2014-02-19</td>\n",
       "      <td>2</td>\n",
       "      <td>135</td>\n",
       "    </tr>\n",
       "    <tr>\n",
       "      <th>A3GBLU4F35HQ6X</th>\n",
       "      <td>2008-05-01</td>\n",
       "      <td>1</td>\n",
       "      <td>61</td>\n",
       "    </tr>\n",
       "    <tr>\n",
       "      <th>A197UAAWUBY6S0</th>\n",
       "      <td>2014-04-02</td>\n",
       "      <td>1</td>\n",
       "      <td>7</td>\n",
       "    </tr>\n",
       "    <tr>\n",
       "      <th>A3Q07ZIZTMU0Y8</th>\n",
       "      <td>2012-12-21</td>\n",
       "      <td>1</td>\n",
       "      <td>32</td>\n",
       "    </tr>\n",
       "    <tr>\n",
       "      <th>A1ICYNT58AV7PA</th>\n",
       "      <td>2009-08-23</td>\n",
       "      <td>1</td>\n",
       "      <td>130</td>\n",
       "    </tr>\n",
       "    <tr>\n",
       "      <th>AAKDFFFPY681S</th>\n",
       "      <td>2013-04-22</td>\n",
       "      <td>1</td>\n",
       "      <td>170</td>\n",
       "    </tr>\n",
       "    <tr>\n",
       "      <th>A1KYCMZ00V29RL</th>\n",
       "      <td>2012-11-14</td>\n",
       "      <td>1</td>\n",
       "      <td>51</td>\n",
       "    </tr>\n",
       "  </tbody>\n",
       "</table>\n",
       "</div>"
      ],
      "text/plain": [
       "                  recency  frequency  monetary\n",
       "user                                          \n",
       "A3478LO90CLJEN 2013-12-29          1       120\n",
       "A1FLC9H8NH66YM 2013-10-04          7      5501\n",
       "A1VVBZN99Q6V8D 2014-07-21          2        72\n",
       "A17I2QRWJJ8VY9 2014-02-19          2       135\n",
       "A3GBLU4F35HQ6X 2008-05-01          1        61\n",
       "A197UAAWUBY6S0 2014-04-02          1         7\n",
       "A3Q07ZIZTMU0Y8 2012-12-21          1        32\n",
       "A1ICYNT58AV7PA 2009-08-23          1       130\n",
       "AAKDFFFPY681S  2013-04-22          1       170\n",
       "A1KYCMZ00V29RL 2012-11-14          1        51"
      ]
     },
     "execution_count": 9,
     "metadata": {},
     "output_type": "execute_result"
    }
   ],
   "source": [
    "rfm['recency'] = pd.to_datetime(rfm['recency'], unit='s')\n",
    "rfm.sample(10)"
   ]
  },
  {
   "cell_type": "code",
   "execution_count": 10,
   "metadata": {},
   "outputs": [
    {
     "name": "stdout",
     "output_type": "stream",
     "text": [
      "<class 'pandas.core.frame.DataFrame'>\n",
      "Index: 339231 entries, A0002382258OFJJ2UYNTR to AZZZTAPYKI9RD\n",
      "Data columns (total 3 columns):\n",
      "recency      339231 non-null datetime64[ns]\n",
      "frequency    339231 non-null int64\n",
      "monetary     339231 non-null int64\n",
      "dtypes: datetime64[ns](1), int64(2)\n",
      "memory usage: 10.4+ MB\n"
     ]
    }
   ],
   "source": [
    "rfm.info()"
   ]
  },
  {
   "cell_type": "code",
   "execution_count": 11,
   "metadata": {},
   "outputs": [
    {
     "data": {
      "text/html": [
       "<div>\n",
       "<style scoped>\n",
       "    .dataframe tbody tr th:only-of-type {\n",
       "        vertical-align: middle;\n",
       "    }\n",
       "\n",
       "    .dataframe tbody tr th {\n",
       "        vertical-align: top;\n",
       "    }\n",
       "\n",
       "    .dataframe thead th {\n",
       "        text-align: right;\n",
       "    }\n",
       "</style>\n",
       "<table border=\"1\" class=\"dataframe\">\n",
       "  <thead>\n",
       "    <tr style=\"text-align: right;\">\n",
       "      <th></th>\n",
       "      <th>recency</th>\n",
       "      <th>frequency</th>\n",
       "      <th>monetary</th>\n",
       "    </tr>\n",
       "    <tr>\n",
       "      <th>user</th>\n",
       "      <th></th>\n",
       "      <th></th>\n",
       "      <th></th>\n",
       "    </tr>\n",
       "  </thead>\n",
       "  <tbody>\n",
       "    <tr>\n",
       "      <th>A3G4C3FSLJFJ76</th>\n",
       "      <td>298</td>\n",
       "      <td>1</td>\n",
       "      <td>152</td>\n",
       "    </tr>\n",
       "    <tr>\n",
       "      <th>A1Y8YBOO69YJTZ</th>\n",
       "      <td>1469</td>\n",
       "      <td>1</td>\n",
       "      <td>190</td>\n",
       "    </tr>\n",
       "    <tr>\n",
       "      <th>A2KMCD7A50FG50</th>\n",
       "      <td>551</td>\n",
       "      <td>1</td>\n",
       "      <td>67</td>\n",
       "    </tr>\n",
       "    <tr>\n",
       "      <th>A1Z4DVS8I4LLBM</th>\n",
       "      <td>335</td>\n",
       "      <td>1</td>\n",
       "      <td>207</td>\n",
       "    </tr>\n",
       "    <tr>\n",
       "      <th>A3DP91TJG89DN3</th>\n",
       "      <td>36</td>\n",
       "      <td>2</td>\n",
       "      <td>295</td>\n",
       "    </tr>\n",
       "    <tr>\n",
       "      <th>ABO4RNB5A8TBP</th>\n",
       "      <td>1114</td>\n",
       "      <td>1</td>\n",
       "      <td>606</td>\n",
       "    </tr>\n",
       "    <tr>\n",
       "      <th>A18TQ8GPVETHQ4</th>\n",
       "      <td>1490</td>\n",
       "      <td>1</td>\n",
       "      <td>272</td>\n",
       "    </tr>\n",
       "    <tr>\n",
       "      <th>A3UQMTHVFDKSP6</th>\n",
       "      <td>249</td>\n",
       "      <td>1</td>\n",
       "      <td>262</td>\n",
       "    </tr>\n",
       "    <tr>\n",
       "      <th>A2WENZ2CCZFBO7</th>\n",
       "      <td>316</td>\n",
       "      <td>1</td>\n",
       "      <td>1898</td>\n",
       "    </tr>\n",
       "    <tr>\n",
       "      <th>A2T7GTG0MN8P1U</th>\n",
       "      <td>1718</td>\n",
       "      <td>1</td>\n",
       "      <td>21</td>\n",
       "    </tr>\n",
       "  </tbody>\n",
       "</table>\n",
       "</div>"
      ],
      "text/plain": [
       "                recency  frequency  monetary\n",
       "user                                        \n",
       "A3G4C3FSLJFJ76      298          1       152\n",
       "A1Y8YBOO69YJTZ     1469          1       190\n",
       "A2KMCD7A50FG50      551          1        67\n",
       "A1Z4DVS8I4LLBM      335          1       207\n",
       "A3DP91TJG89DN3       36          2       295\n",
       "ABO4RNB5A8TBP      1114          1       606\n",
       "A18TQ8GPVETHQ4     1490          1       272\n",
       "A3UQMTHVFDKSP6      249          1       262\n",
       "A2WENZ2CCZFBO7      316          1      1898\n",
       "A2T7GTG0MN8P1U     1718          1        21"
      ]
     },
     "execution_count": 11,
     "metadata": {},
     "output_type": "execute_result"
    }
   ],
   "source": [
    "today = datetime.datetime.strptime(\"2014-07-01\",\"%Y-%m-%d\")\n",
    "\n",
    "rfm['recency'] = rfm['recency'].map(lambda x: (today-x).days)\n",
    "rfm.sample(10)"
   ]
  },
  {
   "cell_type": "code",
   "execution_count": 12,
   "metadata": {},
   "outputs": [
    {
     "data": {
      "text/plain": [
       "<matplotlib.axes._subplots.AxesSubplot at 0x7eff24253ef0>"
      ]
     },
     "execution_count": 12,
     "metadata": {},
     "output_type": "execute_result"
    }
   ],
   "source": [
    "rfm.plot.scatter(x='recency', \n",
    "                y='frequency', \n",
    "                c='monetary',\n",
    "                cmap='viridis_r', s=50)"
   ]
  },
  {
   "cell_type": "code",
   "execution_count": 21,
   "metadata": {},
   "outputs": [],
   "source": [
    "rfm = rfm[rfm['recency']>0]\n",
    "rfm = rfm[rfm['frequency']>0]\n",
    "rfm = rfm[rfm['monetary']>0]"
   ]
  },
  {
   "cell_type": "code",
   "execution_count": 22,
   "metadata": {},
   "outputs": [
    {
     "data": {
      "text/plain": [
       "<matplotlib.axes._subplots.AxesSubplot at 0x7eff22a1e748>"
      ]
     },
     "execution_count": 22,
     "metadata": {},
     "output_type": "execute_result"
    },
    {
     "data": {
      "image/png": "[encoded data removed]",
      "text/plain": [
       "<Figure size 432x288 with 2 Axes>"
      ]
     },
     "metadata": {
      "needs_background": "light"
     },
     "output_type": "display_data"
    }
   ],
   "source": [
    "rfm['recency_log'] = np.log10(rfm['recency'])\n",
    "rfm['frequency_log'] = np.log10(rfm['frequency'])\n",
    "rfm['monetary_log'] = np.log10(rfm['monetary'])\n",
    "\n",
    "rfm.plot.scatter(x='recency_log', \n",
    "                y='frequency_log', \n",
    "                c='monetary_log',\n",
    "                cmap='viridis_r', s=50)"
   ]
  },
  {
   "cell_type": "code",
   "execution_count": 25,
   "metadata": {},
   "outputs": [
    {
     "data": {
      "text/plain": [
       "<matplotlib.axes._subplots.AxesSubplot at 0x7eff22fbeda0>"
      ]
     },
     "execution_count": 25,
     "metadata": {},
     "output_type": "execute_result"
    },
    {
     "data": {
      "image/png": "[encoded data removed]",
      "text/plain": [
       "<Figure size 432x288 with 2 Axes>"
      ]
     },
     "metadata": {
      "needs_background": "light"
     },
     "output_type": "display_data"
    }
   ],
   "source": [
    "rfm['recency_zscore'] = stats.zscore(rfm['recency_log'])\n",
    "rfm['frequency_zscore'] = stats.zscore(rfm['frequency_log'])\n",
    "rfm['monetary_zscore'] = stats.zscore(rfm['monetary_log'])\n",
    "\n",
    "rfm.plot.scatter(x='recency_zscore', \n",
    "                y='frequency_zscore', \n",
    "                c='monetary_zscore',\n",
    "                cmap='viridis_r', s=50)"
   ]
  },
  {
   "cell_type": "code",
   "execution_count": 27,
   "metadata": {},
   "outputs": [
    {
     "data": {
      "text/plain": [
       "<matplotlib.axes._subplots.AxesSubplot at 0x7eff4903a3c8>"
      ]
     },
     "execution_count": 27,
     "metadata": {},
     "output_type": "execute_result"
    },
    {
     "data": {
      "image/png": "[encoded data removed]",
      "text/plain": [
       "<Figure size 432x288 with 2 Axes>"
      ]
     },
     "metadata": {
      "needs_background": "light"
     },
     "output_type": "display_data"
    }
   ],
   "source": [
    "kmeans = KMeans(n_clusters=3, random_state=0).fit(rfm.values)\n",
    "\n",
    "rfm.plot.scatter(x='recency_zscore', \n",
    "                y='frequency_zscore', \n",
    "                c=kmeans.labels_,\n",
    "                cmap='viridis_r', \n",
    "                norm=None, s=50)"
   ]
  },
  {
   "cell_type": "code",
   "execution_count": 40,
   "metadata": {},
   "outputs": [],
   "source": [
    "labels = pd.Series(kmeans.labels_.tolist())"
   ]
  },
  {
   "cell_type": "code",
   "execution_count": 42,
   "metadata": {},
   "outputs": [
    {
     "data": {
      "text/plain": [
       "1    297482\n",
       "0     30350\n",
       "2      2021\n",
       "dtype: int64"
      ]
     },
     "execution_count": 42,
     "metadata": {},
     "output_type": "execute_result"
    }
   ],
   "source": [
    "labels.value_counts()"
   ]
  },
  {
   "cell_type": "code",
   "execution_count": 46,
   "metadata": {},
   "outputs": [],
   "source": [
    "labels.index = rfm['recency'].index"
   ]
  },
  {
   "cell_type": "code",
   "execution_count": 53,
   "metadata": {},
   "outputs": [],
   "source": [
    "df = pd.read_csv('sample.csv')"
   ]
  },
  {
   "cell_type": "code",
   "execution_count": 54,
   "metadata": {},
   "outputs": [
    {
     "data": {
      "text/html": [
       "<div>\n",
       "<style scoped>\n",
       "    .dataframe tbody tr th:only-of-type {\n",
       "        vertical-align: middle;\n",
       "    }\n",
       "\n",
       "    .dataframe tbody tr th {\n",
       "        vertical-align: top;\n",
       "    }\n",
       "\n",
       "    .dataframe thead th {\n",
       "        text-align: right;\n",
       "    }\n",
       "</style>\n",
       "<table border=\"1\" class=\"dataframe\">\n",
       "  <thead>\n",
       "    <tr style=\"text-align: right;\">\n",
       "      <th></th>\n",
       "      <th>user</th>\n",
       "      <th>item</th>\n",
       "      <th>rating</th>\n",
       "      <th>timestamp</th>\n",
       "      <th>total</th>\n",
       "    </tr>\n",
       "  </thead>\n",
       "  <tbody>\n",
       "    <tr>\n",
       "      <th>305639</th>\n",
       "      <td>A3181MTXYWU8YE</td>\n",
       "      <td>B003AYC7ZE</td>\n",
       "      <td>4.0</td>\n",
       "      <td>1371340800</td>\n",
       "      <td>385</td>\n",
       "    </tr>\n",
       "    <tr>\n",
       "      <th>94404</th>\n",
       "      <td>A115MXP3EDABQ9</td>\n",
       "      <td>B0002ZO3G0</td>\n",
       "      <td>3.0</td>\n",
       "      <td>1282435200</td>\n",
       "      <td>22</td>\n",
       "    </tr>\n",
       "    <tr>\n",
       "      <th>425055</th>\n",
       "      <td>A31IHUU88DX9CA</td>\n",
       "      <td>B007R3PM9W</td>\n",
       "      <td>3.0</td>\n",
       "      <td>1363651200</td>\n",
       "      <td>2383</td>\n",
       "    </tr>\n",
       "    <tr>\n",
       "      <th>169596</th>\n",
       "      <td>A9LHUZ7SNCM49</td>\n",
       "      <td>B000PTF0E2</td>\n",
       "      <td>5.0</td>\n",
       "      <td>1310774400</td>\n",
       "      <td>91</td>\n",
       "    </tr>\n",
       "    <tr>\n",
       "      <th>359376</th>\n",
       "      <td>ASB5GEXFTE429</td>\n",
       "      <td>B004MF39YS</td>\n",
       "      <td>5.0</td>\n",
       "      <td>1356307200</td>\n",
       "      <td>77</td>\n",
       "    </tr>\n",
       "    <tr>\n",
       "      <th>79805</th>\n",
       "      <td>A20X4D99M0PBIK</td>\n",
       "      <td>B0002H0H0E</td>\n",
       "      <td>5.0</td>\n",
       "      <td>1206662400</td>\n",
       "      <td>13</td>\n",
       "    </tr>\n",
       "    <tr>\n",
       "      <th>93435</th>\n",
       "      <td>A2FJ9YDV03HTDD</td>\n",
       "      <td>B0002WSKEE</td>\n",
       "      <td>5.0</td>\n",
       "      <td>1397692800</td>\n",
       "      <td>226</td>\n",
       "    </tr>\n",
       "    <tr>\n",
       "      <th>78891</th>\n",
       "      <td>A3L0NW6835H9O4</td>\n",
       "      <td>B0002H0A3S</td>\n",
       "      <td>5.0</td>\n",
       "      <td>1385596800</td>\n",
       "      <td>210</td>\n",
       "    </tr>\n",
       "    <tr>\n",
       "      <th>226555</th>\n",
       "      <td>A1SZUPMDG6BFXX</td>\n",
       "      <td>B001EW5YQS</td>\n",
       "      <td>4.0</td>\n",
       "      <td>1338163200</td>\n",
       "      <td>238</td>\n",
       "    </tr>\n",
       "    <tr>\n",
       "      <th>353120</th>\n",
       "      <td>AODIXKMW8MGD2</td>\n",
       "      <td>B004GCOS9W</td>\n",
       "      <td>5.0</td>\n",
       "      <td>1389225600</td>\n",
       "      <td>688</td>\n",
       "    </tr>\n",
       "  </tbody>\n",
       "</table>\n",
       "</div>"
      ],
      "text/plain": [
       "                  user        item  rating   timestamp  total\n",
       "305639  A3181MTXYWU8YE  B003AYC7ZE     4.0  1371340800    385\n",
       "94404   A115MXP3EDABQ9  B0002ZO3G0     3.0  1282435200     22\n",
       "425055  A31IHUU88DX9CA  B007R3PM9W     3.0  1363651200   2383\n",
       "169596   A9LHUZ7SNCM49  B000PTF0E2     5.0  1310774400     91\n",
       "359376   ASB5GEXFTE429  B004MF39YS     5.0  1356307200     77\n",
       "79805   A20X4D99M0PBIK  B0002H0H0E     5.0  1206662400     13\n",
       "93435   A2FJ9YDV03HTDD  B0002WSKEE     5.0  1397692800    226\n",
       "78891   A3L0NW6835H9O4  B0002H0A3S     5.0  1385596800    210\n",
       "226555  A1SZUPMDG6BFXX  B001EW5YQS     4.0  1338163200    238\n",
       "353120   AODIXKMW8MGD2  B004GCOS9W     5.0  1389225600    688"
      ]
     },
     "execution_count": 54,
     "metadata": {},
     "output_type": "execute_result"
    }
   ],
   "source": [
    "df.drop(columns=['Unnamed: 0'], inplace=True)\n",
    "df.sample(10)"
   ]
  },
  {
   "cell_type": "code",
   "execution_count": 56,
   "metadata": {},
   "outputs": [
    {
     "data": {
      "text/html": [
       "<div>\n",
       "<style scoped>\n",
       "    .dataframe tbody tr th:only-of-type {\n",
       "        vertical-align: middle;\n",
       "    }\n",
       "\n",
       "    .dataframe tbody tr th {\n",
       "        vertical-align: top;\n",
       "    }\n",
       "\n",
       "    .dataframe thead th {\n",
       "        text-align: right;\n",
       "    }\n",
       "</style>\n",
       "<table border=\"1\" class=\"dataframe\">\n",
       "  <thead>\n",
       "    <tr style=\"text-align: right;\">\n",
       "      <th></th>\n",
       "      <th>item</th>\n",
       "      <th>rating</th>\n",
       "      <th>timestamp</th>\n",
       "      <th>total</th>\n",
       "    </tr>\n",
       "    <tr>\n",
       "      <th>user</th>\n",
       "      <th></th>\n",
       "      <th></th>\n",
       "      <th></th>\n",
       "      <th></th>\n",
       "    </tr>\n",
       "  </thead>\n",
       "  <tbody>\n",
       "    <tr>\n",
       "      <th>A3NY4XJTR4JSAA</th>\n",
       "      <td>B00079PLRG</td>\n",
       "      <td>5.0</td>\n",
       "      <td>1390089600</td>\n",
       "      <td>230</td>\n",
       "    </tr>\n",
       "    <tr>\n",
       "      <th>A8Z2H8LL8MVSO</th>\n",
       "      <td>B000JM46FY</td>\n",
       "      <td>5.0</td>\n",
       "      <td>1292371200</td>\n",
       "      <td>187</td>\n",
       "    </tr>\n",
       "    <tr>\n",
       "      <th>A1LOKOYUKF7LX6</th>\n",
       "      <td>B000EB68VK</td>\n",
       "      <td>5.0</td>\n",
       "      <td>1356739200</td>\n",
       "      <td>157</td>\n",
       "    </tr>\n",
       "    <tr>\n",
       "      <th>A3JHQM2SDFQNEN</th>\n",
       "      <td>B001NYO15C</td>\n",
       "      <td>5.0</td>\n",
       "      <td>1367971200</td>\n",
       "      <td>720</td>\n",
       "    </tr>\n",
       "    <tr>\n",
       "      <th>A3PEFLP23GD1LQ</th>\n",
       "      <td>B007V7R2KG</td>\n",
       "      <td>5.0</td>\n",
       "      <td>1356912000</td>\n",
       "      <td>30</td>\n",
       "    </tr>\n",
       "    <tr>\n",
       "      <th>A35OUKBL3QTXP8</th>\n",
       "      <td>B0006B4ZR2</td>\n",
       "      <td>3.0</td>\n",
       "      <td>1384041600</td>\n",
       "      <td>25</td>\n",
       "    </tr>\n",
       "    <tr>\n",
       "      <th>A3F2ESFC9BF83E</th>\n",
       "      <td>B003TOS8EY</td>\n",
       "      <td>2.0</td>\n",
       "      <td>1286236800</td>\n",
       "      <td>242</td>\n",
       "    </tr>\n",
       "    <tr>\n",
       "      <th>A243Y9BDHDOC34</th>\n",
       "      <td>B004HJ201C</td>\n",
       "      <td>4.0</td>\n",
       "      <td>1392681600</td>\n",
       "      <td>61</td>\n",
       "    </tr>\n",
       "    <tr>\n",
       "      <th>A2K738RY3B24Y8</th>\n",
       "      <td>B007EDMEEG</td>\n",
       "      <td>5.0</td>\n",
       "      <td>1349049600</td>\n",
       "      <td>429</td>\n",
       "    </tr>\n",
       "    <tr>\n",
       "      <th>A23DB8G4J46LCJ</th>\n",
       "      <td>B004M627TA</td>\n",
       "      <td>5.0</td>\n",
       "      <td>1369785600</td>\n",
       "      <td>102</td>\n",
       "    </tr>\n",
       "  </tbody>\n",
       "</table>\n",
       "</div>"
      ],
      "text/plain": [
       "                      item  rating   timestamp  total\n",
       "user                                                 \n",
       "A3NY4XJTR4JSAA  B00079PLRG     5.0  1390089600    230\n",
       "A8Z2H8LL8MVSO   B000JM46FY     5.0  1292371200    187\n",
       "A1LOKOYUKF7LX6  B000EB68VK     5.0  1356739200    157\n",
       "A3JHQM2SDFQNEN  B001NYO15C     5.0  1367971200    720\n",
       "A3PEFLP23GD1LQ  B007V7R2KG     5.0  1356912000     30\n",
       "A35OUKBL3QTXP8  B0006B4ZR2     3.0  1384041600     25\n",
       "A3F2ESFC9BF83E  B003TOS8EY     2.0  1286236800    242\n",
       "A243Y9BDHDOC34  B004HJ201C     4.0  1392681600     61\n",
       "A2K738RY3B24Y8  B007EDMEEG     5.0  1349049600    429\n",
       "A23DB8G4J46LCJ  B004M627TA     5.0  1369785600    102"
      ]
     },
     "execution_count": 56,
     "metadata": {},
     "output_type": "execute_result"
    }
   ],
   "source": [
    "df = df.set_index('user')\n",
    "df.sample(10)"
   ]
  },
  {
   "cell_type": "code",
   "execution_count": 57,
   "metadata": {},
   "outputs": [
    {
     "data": {
      "text/html": [
       "<div>\n",
       "<style scoped>\n",
       "    .dataframe tbody tr th:only-of-type {\n",
       "        vertical-align: middle;\n",
       "    }\n",
       "\n",
       "    .dataframe tbody tr th {\n",
       "        vertical-align: top;\n",
       "    }\n",
       "\n",
       "    .dataframe thead th {\n",
       "        text-align: right;\n",
       "    }\n",
       "</style>\n",
       "<table border=\"1\" class=\"dataframe\">\n",
       "  <thead>\n",
       "    <tr style=\"text-align: right;\">\n",
       "      <th></th>\n",
       "      <th>item</th>\n",
       "      <th>rating</th>\n",
       "      <th>timestamp</th>\n",
       "      <th>total</th>\n",
       "      <th>label</th>\n",
       "    </tr>\n",
       "    <tr>\n",
       "      <th>user</th>\n",
       "      <th></th>\n",
       "      <th></th>\n",
       "      <th></th>\n",
       "      <th></th>\n",
       "      <th></th>\n",
       "    </tr>\n",
       "  </thead>\n",
       "  <tbody>\n",
       "    <tr>\n",
       "      <th>A30XDXD4P24DL8</th>\n",
       "      <td>B000EAKZJ2</td>\n",
       "      <td>5.0</td>\n",
       "      <td>1400025600</td>\n",
       "      <td>40</td>\n",
       "      <td>1.0</td>\n",
       "    </tr>\n",
       "    <tr>\n",
       "      <th>A3UQTNF0CZWF87</th>\n",
       "      <td>B001AI8BJ8</td>\n",
       "      <td>5.0</td>\n",
       "      <td>1319760000</td>\n",
       "      <td>6</td>\n",
       "      <td>0.0</td>\n",
       "    </tr>\n",
       "    <tr>\n",
       "      <th>AZTT20GPHI4VZ</th>\n",
       "      <td>B00AZUAORE</td>\n",
       "      <td>5.0</td>\n",
       "      <td>1387497600</td>\n",
       "      <td>182</td>\n",
       "      <td>1.0</td>\n",
       "    </tr>\n",
       "    <tr>\n",
       "      <th>A1UW013BFJUTXJ</th>\n",
       "      <td>B00080MJ0G</td>\n",
       "      <td>3.0</td>\n",
       "      <td>1175299200</td>\n",
       "      <td>88</td>\n",
       "      <td>1.0</td>\n",
       "    </tr>\n",
       "    <tr>\n",
       "      <th>ARR0OS162J3JH</th>\n",
       "      <td>B000LDNLWU</td>\n",
       "      <td>4.0</td>\n",
       "      <td>1207180800</td>\n",
       "      <td>208</td>\n",
       "      <td>1.0</td>\n",
       "    </tr>\n",
       "  </tbody>\n",
       "</table>\n",
       "</div>"
      ],
      "text/plain": [
       "                      item  rating   timestamp  total  label\n",
       "user                                                        \n",
       "A30XDXD4P24DL8  B000EAKZJ2     5.0  1400025600     40    1.0\n",
       "A3UQTNF0CZWF87  B001AI8BJ8     5.0  1319760000      6    0.0\n",
       "AZTT20GPHI4VZ   B00AZUAORE     5.0  1387497600    182    1.0\n",
       "A1UW013BFJUTXJ  B00080MJ0G     3.0  1175299200     88    1.0\n",
       "ARR0OS162J3JH   B000LDNLWU     4.0  1207180800    208    1.0"
      ]
     },
     "execution_count": 57,
     "metadata": {},
     "output_type": "execute_result"
    }
   ],
   "source": [
    "df['label'] = labels\n",
    "df.sample(5)"
   ]
  },
  {
   "cell_type": "code",
   "execution_count": 58,
   "metadata": {},
   "outputs": [
    {
     "data": {
      "text/plain": [
       "(19415, 5)"
      ]
     },
     "execution_count": 58,
     "metadata": {},
     "output_type": "execute_result"
    }
   ],
   "source": [
    "df = df[df['label'] == 2]\n",
    "df.shape"
   ]
  },
  {
   "cell_type": "code",
   "execution_count": 59,
   "metadata": {},
   "outputs": [
    {
     "data": {
      "text/html": [
       "<div>\n",
       "<style scoped>\n",
       "    .dataframe tbody tr th:only-of-type {\n",
       "        vertical-align: middle;\n",
       "    }\n",
       "\n",
       "    .dataframe tbody tr th {\n",
       "        vertical-align: top;\n",
       "    }\n",
       "\n",
       "    .dataframe thead th {\n",
       "        text-align: right;\n",
       "    }\n",
       "</style>\n",
       "<table border=\"1\" class=\"dataframe\">\n",
       "  <thead>\n",
       "    <tr style=\"text-align: right;\">\n",
       "      <th></th>\n",
       "      <th>item</th>\n",
       "      <th>rating</th>\n",
       "      <th>timestamp</th>\n",
       "      <th>total</th>\n",
       "      <th>label</th>\n",
       "    </tr>\n",
       "    <tr>\n",
       "      <th>user</th>\n",
       "      <th></th>\n",
       "      <th></th>\n",
       "      <th></th>\n",
       "      <th></th>\n",
       "      <th></th>\n",
       "    </tr>\n",
       "  </thead>\n",
       "  <tbody>\n",
       "    <tr>\n",
       "      <th>A2P1Z9NUJ9H1RT</th>\n",
       "      <td>0634055534</td>\n",
       "      <td>5.0</td>\n",
       "      <td>1367280000</td>\n",
       "      <td>282</td>\n",
       "      <td>2.0</td>\n",
       "    </tr>\n",
       "    <tr>\n",
       "      <th>A370T379VAAP4B</th>\n",
       "      <td>0739040251</td>\n",
       "      <td>4.0</td>\n",
       "      <td>1226448000</td>\n",
       "      <td>10500</td>\n",
       "      <td>2.0</td>\n",
       "    </tr>\n",
       "    <tr>\n",
       "      <th>A1ZMV5QSAR8V2L</th>\n",
       "      <td>0739040375</td>\n",
       "      <td>5.0</td>\n",
       "      <td>1380758400</td>\n",
       "      <td>238</td>\n",
       "      <td>2.0</td>\n",
       "    </tr>\n",
       "    <tr>\n",
       "      <th>A3DMR234MWQYSE</th>\n",
       "      <td>0739040375</td>\n",
       "      <td>5.0</td>\n",
       "      <td>1204848000</td>\n",
       "      <td>10500</td>\n",
       "      <td>2.0</td>\n",
       "    </tr>\n",
       "    <tr>\n",
       "      <th>A1WHGNU87BGJ2S</th>\n",
       "      <td>0739042726</td>\n",
       "      <td>4.0</td>\n",
       "      <td>1346371200</td>\n",
       "      <td>379</td>\n",
       "      <td>2.0</td>\n",
       "    </tr>\n",
       "  </tbody>\n",
       "</table>\n",
       "</div>"
      ],
      "text/plain": [
       "                      item  rating   timestamp  total  label\n",
       "user                                                        \n",
       "A2P1Z9NUJ9H1RT  0634055534     5.0  1367280000    282    2.0\n",
       "A370T379VAAP4B  0739040251     4.0  1226448000  10500    2.0\n",
       "A1ZMV5QSAR8V2L  0739040375     5.0  1380758400    238    2.0\n",
       "A3DMR234MWQYSE  0739040375     5.0  1204848000  10500    2.0\n",
       "A1WHGNU87BGJ2S  0739042726     4.0  1346371200    379    2.0"
      ]
     },
     "execution_count": 59,
     "metadata": {},
     "output_type": "execute_result"
    }
   ],
   "source": [
    "df.head()"
   ]
  },
  {
   "cell_type": "code",
   "execution_count": 60,
   "metadata": {},
   "outputs": [],
   "source": [
    "df.drop(columns=['total', 'timestamp', 'label']).to_csv('recommender.csv')"
   ]
  }
 ],
 "metadata": {
  "kernelspec": {
   "display_name": "Python 3",
   "language": "python",
   "name": "python3"
  },
  "language_info": {
   "codemirror_mode": {
    "name": "ipython",
    "version": 3
   },
   "file_extension": ".py",
   "mimetype": "text/x-python",
   "name": "python",
   "nbconvert_exporter": "python",
   "pygments_lexer": "ipython3",
   "version": "3.6.8"
  }
 },
 "nbformat": 4,
 "nbformat_minor": 2
}
