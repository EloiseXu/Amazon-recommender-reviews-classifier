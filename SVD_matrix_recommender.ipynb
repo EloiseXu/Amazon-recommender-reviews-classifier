{
 "cells": [
  {
   "cell_type": "code",
   "execution_count": 1,
   "metadata": {},
   "outputs": [],
   "source": [
    "import pandas as pd\n",
    "import numpy as np\n",
    "import time\n",
    "import json\n",
    "\n",
    "import matplotlib.pyplot as plt; plt.rcdefaults()\n",
    "import matplotlib.pyplot as plt\n",
    "\n",
    "import math as mt\n",
    "from scipy.sparse.linalg import * \n",
    "from scipy.sparse.linalg import svds\n",
    "from scipy.sparse import csc_matrix\n",
    "from scipy.sparse import coo_matrix"
   ]
  },
  {
   "cell_type": "code",
   "execution_count": 2,
   "metadata": {},
   "outputs": [],
   "source": [
    "reviews = []\n",
    "\n",
    "with open('reviews_Musical_Instruments_5.json', 'r') as f:\n",
    "    raw_json = f.readlines()\n",
    "    for record in raw_json:\n",
    "        reviews.append(eval(record))"
   ]
  },
  {
   "cell_type": "code",
   "execution_count": 3,
   "metadata": {},
   "outputs": [
    {
     "data": {
      "text/html": [
       "<div>\n",
       "<style scoped>\n",
       "    .dataframe tbody tr th:only-of-type {\n",
       "        vertical-align: middle;\n",
       "    }\n",
       "\n",
       "    .dataframe tbody tr th {\n",
       "        vertical-align: top;\n",
       "    }\n",
       "\n",
       "    .dataframe thead th {\n",
       "        text-align: right;\n",
       "    }\n",
       "</style>\n",
       "<table border=\"1\" class=\"dataframe\">\n",
       "  <thead>\n",
       "    <tr style=\"text-align: right;\">\n",
       "      <th></th>\n",
       "      <th>reviewerID</th>\n",
       "      <th>asin</th>\n",
       "      <th>overall</th>\n",
       "    </tr>\n",
       "  </thead>\n",
       "  <tbody>\n",
       "    <tr>\n",
       "      <th>7024</th>\n",
       "      <td>AJK15Q9JOEHRH</td>\n",
       "      <td>B001W99HE8</td>\n",
       "      <td>5</td>\n",
       "    </tr>\n",
       "    <tr>\n",
       "      <th>8158</th>\n",
       "      <td>A32H7YO8K1XS9E</td>\n",
       "      <td>B003VWJ2K8</td>\n",
       "      <td>5</td>\n",
       "    </tr>\n",
       "    <tr>\n",
       "      <th>5059</th>\n",
       "      <td>AQDHNCD25PFE6</td>\n",
       "      <td>B000LPUV8K</td>\n",
       "      <td>5</td>\n",
       "    </tr>\n",
       "    <tr>\n",
       "      <th>6966</th>\n",
       "      <td>A3E7O9NSS47TE8</td>\n",
       "      <td>B001RNHE30</td>\n",
       "      <td>5</td>\n",
       "    </tr>\n",
       "    <tr>\n",
       "      <th>373</th>\n",
       "      <td>A2NYK9KWFMJV4Y</td>\n",
       "      <td>B0002CZUUG</td>\n",
       "      <td>5</td>\n",
       "    </tr>\n",
       "    <tr>\n",
       "      <th>160</th>\n",
       "      <td>A1L7M2JXN4EZCR</td>\n",
       "      <td>B00006LVEU</td>\n",
       "      <td>4</td>\n",
       "    </tr>\n",
       "    <tr>\n",
       "      <th>4178</th>\n",
       "      <td>A2RS66Y79Q8X0W</td>\n",
       "      <td>B000AKSUP2</td>\n",
       "      <td>5</td>\n",
       "    </tr>\n",
       "    <tr>\n",
       "      <th>2466</th>\n",
       "      <td>A21N9ACLVOMDLP</td>\n",
       "      <td>B0002GW3Y8</td>\n",
       "      <td>4</td>\n",
       "    </tr>\n",
       "    <tr>\n",
       "      <th>7058</th>\n",
       "      <td>AKSFZ4G1AXYFC</td>\n",
       "      <td>B0023BYDHK</td>\n",
       "      <td>3</td>\n",
       "    </tr>\n",
       "    <tr>\n",
       "      <th>3616</th>\n",
       "      <td>A1J9HY0AG5676</td>\n",
       "      <td>B0006H92QK</td>\n",
       "      <td>5</td>\n",
       "    </tr>\n",
       "  </tbody>\n",
       "</table>\n",
       "</div>"
      ],
      "text/plain": [
       "          reviewerID        asin  overall\n",
       "7024   AJK15Q9JOEHRH  B001W99HE8        5\n",
       "8158  A32H7YO8K1XS9E  B003VWJ2K8        5\n",
       "5059   AQDHNCD25PFE6  B000LPUV8K        5\n",
       "6966  A3E7O9NSS47TE8  B001RNHE30        5\n",
       "373   A2NYK9KWFMJV4Y  B0002CZUUG        5\n",
       "160   A1L7M2JXN4EZCR  B00006LVEU        4\n",
       "4178  A2RS66Y79Q8X0W  B000AKSUP2        5\n",
       "2466  A21N9ACLVOMDLP  B0002GW3Y8        4\n",
       "7058   AKSFZ4G1AXYFC  B0023BYDHK        3\n",
       "3616   A1J9HY0AG5676  B0006H92QK        5"
      ]
     },
     "execution_count": 3,
     "metadata": {},
     "output_type": "execute_result"
    }
   ],
   "source": [
    "json_info = json.dumps(reviews)\n",
    "\n",
    "df = pd.read_json(json_info)\n",
    "df = df[['reviewerID', 'asin', 'overall']].copy()\n",
    "df.sample(10)"
   ]
  },
  {
   "cell_type": "code",
   "execution_count": 4,
   "metadata": {},
   "outputs": [
    {
     "data": {
      "text/plain": [
       "(10261, 3)"
      ]
     },
     "execution_count": 4,
     "metadata": {},
     "output_type": "execute_result"
    }
   ],
   "source": [
    "df.shape"
   ]
  },
  {
   "cell_type": "code",
   "execution_count": 5,
   "metadata": {},
   "outputs": [
    {
     "name": "stdout",
     "output_type": "stream",
     "text": [
      "<class 'pandas.core.frame.DataFrame'>\n",
      "RangeIndex: 10261 entries, 0 to 10260\n",
      "Data columns (total 3 columns):\n",
      "reviewerID    10261 non-null object\n",
      "asin          10261 non-null object\n",
      "overall       10261 non-null int64\n",
      "dtypes: int64(1), object(2)\n",
      "memory usage: 240.6+ KB\n"
     ]
    }
   ],
   "source": [
    "df.info()"
   ]
  },
  {
   "cell_type": "code",
   "execution_count": 6,
   "metadata": {},
   "outputs": [
    {
     "data": {
      "text/plain": [
       "count    900.000000\n",
       "mean       4.464891\n",
       "std        0.403301\n",
       "min        2.714286\n",
       "25%        4.285714\n",
       "50%        4.547727\n",
       "75%        4.777778\n",
       "max        5.000000\n",
       "Name: overall, dtype: float64"
      ]
     },
     "execution_count": 6,
     "metadata": {},
     "output_type": "execute_result"
    }
   ],
   "source": [
    "instruments = df.groupby('asin')['overall'].mean()\n",
    "instruments.describe()"
   ]
  },
  {
   "cell_type": "code",
   "execution_count": 7,
   "metadata": {},
   "outputs": [
    {
     "data": {
      "text/plain": [
       "count    1429.000000\n",
       "mean        7.180546\n",
       "std         3.731858\n",
       "min         5.000000\n",
       "25%         5.000000\n",
       "50%         6.000000\n",
       "75%         8.000000\n",
       "max        42.000000\n",
       "Name: overall, dtype: float64"
      ]
     },
     "execution_count": 7,
     "metadata": {},
     "output_type": "execute_result"
    }
   ],
   "source": [
    "users = df.groupby('reviewerID')['overall'].count()\n",
    "users.describe()"
   ]
  },
  {
   "cell_type": "code",
   "execution_count": 8,
   "metadata": {},
   "outputs": [
    {
     "data": {
      "image/png": "[encoded data removed]",
      "text/plain": [
       "<Figure size 432x288 with 1 Axes>"
      ]
     },
     "metadata": {
      "needs_background": "light"
     },
     "output_type": "display_data"
    }
   ],
   "source": [
    "plt.hist(instruments, 50, facecolor='green', alpha=0.75)\n",
    "plt.xlabel('Ratings')\n",
    "plt.ylabel('Instruments')\n",
    "plt.grid(True)\n",
    "plt.show()"
   ]
  },
  {
   "cell_type": "code",
   "execution_count": 9,
   "metadata": {},
   "outputs": [
    {
     "data": {
      "image/png": "[encoded data removed]",
      "text/plain": [
       "<Figure size 432x288 with 1 Axes>"
      ]
     },
     "metadata": {
      "needs_background": "light"
     },
     "output_type": "display_data"
    }
   ],
   "source": [
    "plt.hist(users, 50, facecolor='green', alpha=0.75)\n",
    "plt.xlabel('Play Counts')\n",
    "plt.ylabel('Users')\n",
    "plt.grid(True)\n",
    "plt.show()"
   ]
  },
  {
   "cell_type": "code",
   "execution_count": 10,
   "metadata": {},
   "outputs": [
    {
     "data": {
      "text/html": [
       "<div>\n",
       "<style scoped>\n",
       "    .dataframe tbody tr th:only-of-type {\n",
       "        vertical-align: middle;\n",
       "    }\n",
       "\n",
       "    .dataframe tbody tr th {\n",
       "        vertical-align: top;\n",
       "    }\n",
       "\n",
       "    .dataframe thead th {\n",
       "        text-align: right;\n",
       "    }\n",
       "</style>\n",
       "<table border=\"1\" class=\"dataframe\">\n",
       "  <thead>\n",
       "    <tr style=\"text-align: right;\">\n",
       "      <th></th>\n",
       "      <th>reviewerID</th>\n",
       "      <th>asin</th>\n",
       "      <th>overall</th>\n",
       "    </tr>\n",
       "  </thead>\n",
       "  <tbody>\n",
       "    <tr>\n",
       "      <th>1337</th>\n",
       "      <td>A1CF9IF5FWYNU0</td>\n",
       "      <td>B0002E1G5C</td>\n",
       "      <td>2</td>\n",
       "    </tr>\n",
       "    <tr>\n",
       "      <th>2889</th>\n",
       "      <td>A1CF9IF5FWYNU0</td>\n",
       "      <td>B0002H0A3S</td>\n",
       "      <td>5</td>\n",
       "    </tr>\n",
       "    <tr>\n",
       "      <th>7348</th>\n",
       "      <td>A1CF9IF5FWYNU0</td>\n",
       "      <td>B002KDHBRU</td>\n",
       "      <td>2</td>\n",
       "    </tr>\n",
       "    <tr>\n",
       "      <th>8362</th>\n",
       "      <td>A1CF9IF5FWYNU0</td>\n",
       "      <td>B003VWKPHC</td>\n",
       "      <td>5</td>\n",
       "    </tr>\n",
       "    <tr>\n",
       "      <th>8845</th>\n",
       "      <td>A1CF9IF5FWYNU0</td>\n",
       "      <td>B004VDD4KK</td>\n",
       "      <td>5</td>\n",
       "    </tr>\n",
       "  </tbody>\n",
       "</table>\n",
       "</div>"
      ],
      "text/plain": [
       "          reviewerID        asin  overall\n",
       "1337  A1CF9IF5FWYNU0  B0002E1G5C        2\n",
       "2889  A1CF9IF5FWYNU0  B0002H0A3S        5\n",
       "7348  A1CF9IF5FWYNU0  B002KDHBRU        2\n",
       "8362  A1CF9IF5FWYNU0  B003VWKPHC        5\n",
       "8845  A1CF9IF5FWYNU0  B004VDD4KK        5"
      ]
     },
     "execution_count": 10,
     "metadata": {},
     "output_type": "execute_result"
    }
   ],
   "source": [
    "df[df.reviewerID =='A1CF9IF5FWYNU0'].head()"
   ]
  },
  {
   "cell_type": "code",
   "execution_count": 13,
   "metadata": {},
   "outputs": [],
   "source": [
    "user_codes = df.reviewerID.drop_duplicates().reset_index()\n",
    "product_codes = df.asin.drop_duplicates().reset_index()\n",
    "user_codes.rename(columns={'index':'user_index'}, inplace=True)\n",
    "product_codes.rename(columns={'index':'product_index'}, inplace=True)\n",
    "\n",
    "product_codes['p_index_value'] = list(product_codes.index)\n",
    "user_codes['u_index_value'] = list(user_codes.index)\n",
    "df = pd.merge(df,product_codes,how='left')\n",
    "df = pd.merge(df,user_codes,how='left')\n",
    "\n",
    "mat_candidate = df[['u_index_value','p_index_value','overall']]\n",
    "data_array = mat_candidate.overall.values\n",
    "row_array = mat_candidate.u_index_value.values\n",
    "col_array = mat_candidate.p_index_value.values\n",
    "\n",
    "data_sparse = coo_matrix((data_array, (row_array, col_array)),dtype=float)"
   ]
  },
  {
   "cell_type": "code",
   "execution_count": 15,
   "metadata": {},
   "outputs": [],
   "source": [
    "def compute_svd(urm, K):\n",
    "    U, s, Vt = svds(urm, K)\n",
    "\n",
    "    dim = (len(s), len(s))\n",
    "    S = np.zeros(dim, dtype=np.float32)\n",
    "    for i in range(0, len(s)):\n",
    "        S[i,i] = mt.sqrt(s[i])\n",
    "\n",
    "    U = csc_matrix(U, dtype=np.float32)\n",
    "    S = csc_matrix(S, dtype=np.float32)\n",
    "    Vt = csc_matrix(Vt, dtype=np.float32)\n",
    "    \n",
    "    return U, S, Vt\n",
    "\n",
    "def compute_estimated_matrix(urm, U, S, Vt, uTest, K, test):\n",
    "    rightTerm = S*Vt \n",
    "    max_recommendation = 250\n",
    "    estimatedRatings = np.zeros(shape=(MAX_UID, MAX_PID), dtype=np.float16)\n",
    "    recomendRatings = np.zeros(shape=(MAX_UID,max_recommendation ), dtype=np.float16)\n",
    "    for userTest in uTest:\n",
    "        prod = U[userTest, :]*rightTerm\n",
    "        estimatedRatings[userTest, :] = prod.todense()\n",
    "        recomendRatings[userTest, :] = (-estimatedRatings[userTest, :]).argsort()[:max_recommendation]\n",
    "    return recomendRatings"
   ]
  },
  {
   "cell_type": "code",
   "execution_count": 16,
   "metadata": {},
   "outputs": [],
   "source": [
    "K=50\n",
    "urm = data_sparse\n",
    "MAX_PID = urm.shape[1]\n",
    "MAX_UID = urm.shape[0]\n",
    "\n",
    "U, S, Vt = compute_svd(urm, K)"
   ]
  },
  {
   "cell_type": "code",
   "execution_count": 17,
   "metadata": {},
   "outputs": [],
   "source": [
    "uTest = [1,2,3,4,5,6,7,8,9,10]\n",
    "uTest_recommended_items = compute_estimated_matrix(urm, U, S, Vt, uTest, K, True)"
   ]
  },
  {
   "cell_type": "code",
   "execution_count": 19,
   "metadata": {},
   "outputs": [
    {
     "name": "stdout",
     "output_type": "stream",
     "text": [
      "Recommendation for user with user id 1\n",
      "The number 1 recommended song is B004XNK7AI\n",
      "The number 2 recommended song is B0002GMGYA\n",
      "The number 3 recommended song is B0002E1O2C\n",
      "The number 4 recommended song is B0002CZSJO\n",
      "The number 5 recommended song is B0002M6CW6\n",
      "The number 6 recommended song is B000B6DHB2\n",
      "The number 7 recommended song is B000A6ASSS\n",
      "The number 8 recommended song is B000EELB8W\n",
      "The number 9 recommended song is B000B6FBA2\n",
      "The number 10 recommended song is B000OMG0KI\n",
      "Recommendation for user with user id 2\n",
      "The number 1 recommended song is B0002CZW0Y\n",
      "The number 2 recommended song is B0002M3OVI\n",
      "The number 3 recommended song is B000LQLDM2\n",
      "The number 4 recommended song is B000NJ2TIE\n",
      "The number 5 recommended song is B0002GXF8Q\n",
      "The number 6 recommended song is B000J5XS3C\n",
      "The number 7 recommended song is B003GEBGA0\n",
      "The number 8 recommended song is B0018TAITA\n",
      "The number 9 recommended song is B000VJJQUU\n",
      "The number 10 recommended song is B000EELB8W\n",
      "Recommendation for user with user id 3\n",
      "The number 1 recommended song is B00063678K\n",
      "The number 2 recommended song is B0002GMGYA\n",
      "The number 3 recommended song is B005CX4GLE\n",
      "The number 4 recommended song is B0002E5518\n",
      "The number 5 recommended song is B001J1SX94\n",
      "The number 6 recommended song is B0002GZM00\n",
      "The number 7 recommended song is B004Z17008\n",
      "The number 8 recommended song is B000RKL8R2\n",
      "The number 9 recommended song is B0018TG8HQ\n",
      "The number 10 recommended song is B000CD1R84\n",
      "Recommendation for user with user id 4\n",
      "The number 1 recommended song is B0002E1G5C\n",
      "The number 2 recommended song is B000B6DHB2\n",
      "The number 3 recommended song is B00191WVF6\n",
      "The number 4 recommended song is B0002DV7ZM\n",
      "The number 5 recommended song is B000PO30QM\n",
      "The number 6 recommended song is B0002GZBLU\n",
      "The number 7 recommended song is B000EEL6J6\n",
      "The number 8 recommended song is B0002E1O2C\n",
      "The number 9 recommended song is B0002CZSJO\n",
      "The number 10 recommended song is B0002D0CQC\n",
      "Recommendation for user with user id 5\n",
      "The number 1 recommended song is B000PO30QM\n",
      "The number 2 recommended song is B0002CZVXM\n",
      "The number 3 recommended song is B001PGXKC8\n",
      "The number 4 recommended song is B0002F7IN0\n",
      "The number 5 recommended song is B000B6DHB2\n",
      "The number 6 recommended song is B0073XCXHA\n",
      "The number 7 recommended song is B002Q0WSO8\n",
      "The number 8 recommended song is B0002GZM00\n",
      "The number 9 recommended song is B0002IAJ56\n",
      "The number 10 recommended song is B0016ML1C2\n",
      "Recommendation for user with user id 6\n",
      "The number 1 recommended song is B0002D0CEO\n",
      "The number 2 recommended song is B0002CZVXM\n",
      "The number 3 recommended song is B0002GMGYA\n",
      "The number 4 recommended song is B0002F7K7Y\n",
      "The number 5 recommended song is B0002CZVK0\n",
      "The number 6 recommended song is B0002D0Q2W\n",
      "The number 7 recommended song is B0073XCXHA\n",
      "The number 8 recommended song is B0002F7IIK\n",
      "The number 9 recommended song is B0002PBS6S\n",
      "The number 10 recommended song is B00004Y2UT\n",
      "Recommendation for user with user id 7\n",
      "The number 1 recommended song is B000RNB720\n",
      "The number 2 recommended song is B0016ZZKJO\n",
      "The number 3 recommended song is B0015RIN6U\n",
      "The number 4 recommended song is B000KIRT74\n",
      "The number 5 recommended song is B006Y2FUW6\n",
      "The number 6 recommended song is B00AZUAORE\n",
      "The number 7 recommended song is B0050ALN2E\n",
      "The number 8 recommended song is B0002F4VBM\n",
      "The number 9 recommended song is B0002CZVBE\n",
      "The number 10 recommended song is B007T8CUNG\n",
      "Recommendation for user with user id 8\n",
      "The number 1 recommended song is B008BPI2HE\n",
      "The number 2 recommended song is B000RNB720\n",
      "The number 3 recommended song is B00646MZHK\n",
      "The number 4 recommended song is B00IZCSW3M\n",
      "The number 5 recommended song is B005FKF1PY\n",
      "The number 6 recommended song is B0002F7K7Y\n",
      "The number 7 recommended song is B00GTSM8FW\n",
      "The number 8 recommended song is B00JBIVXGC\n",
      "The number 9 recommended song is B0002E3CHC\n",
      "The number 10 recommended song is B00AQBT3EW\n",
      "Recommendation for user with user id 9\n",
      "The number 1 recommended song is B0006NDF8A\n",
      "The number 2 recommended song is B0018TIADQ\n",
      "The number 3 recommended song is B003JJQMD8\n",
      "The number 4 recommended song is B0002E1H9W\n",
      "The number 5 recommended song is B001W99HE8\n",
      "The number 6 recommended song is B0002D0CQC\n",
      "The number 7 recommended song is B000ULAP4U\n",
      "The number 8 recommended song is B000978D58\n",
      "The number 9 recommended song is B003LTJ404\n",
      "The number 10 recommended song is B0073XCXHA\n",
      "Recommendation for user with user id 10\n",
      "The number 1 recommended song is B00063678K\n",
      "The number 2 recommended song is B005CX4GLE\n",
      "The number 3 recommended song is B0002GMGYA\n",
      "The number 4 recommended song is B0018TG8HQ\n",
      "The number 5 recommended song is B0002CZUUG\n",
      "The number 6 recommended song is B0002E5518\n",
      "The number 7 recommended song is B000RKL8R2\n",
      "The number 8 recommended song is B000CD1R84\n",
      "The number 9 recommended song is B0002ZO3LK\n",
      "The number 10 recommended song is B000978D58\n"
     ]
    }
   ],
   "source": [
    "for user in uTest:\n",
    "    print(\"Recommendation for user with user id {}\". format(user))\n",
    "    rank_value = 1\n",
    "    for i in uTest_recommended_items[user,0:10]:\n",
    "        product_details = df[df.p_index_value == i].drop_duplicates('p_index_value')[['asin']]\n",
    "        print(\"The number {} recommended song is {}\".format(rank_value, list(product_details['asin'])[0]))\n",
    "        rank_value+=1"
   ]
  }
 ],
 "metadata": {
  "kernelspec": {
   "display_name": "Python 3",
   "language": "python",
   "name": "python3"
  },
  "language_info": {
   "codemirror_mode": {
    "name": "ipython",
    "version": 3
   },
   "file_extension": ".py",
   "mimetype": "text/x-python",
   "name": "python",
   "nbconvert_exporter": "python",
   "pygments_lexer": "ipython3",
   "version": "3.6.8"
  }
 },
 "nbformat": 4,
 "nbformat_minor": 2
}
